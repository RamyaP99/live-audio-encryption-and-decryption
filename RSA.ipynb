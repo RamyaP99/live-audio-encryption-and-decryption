{
 "cells": [
  {
   "cell_type": "code",
   "execution_count": 14,
   "id": "18fdc107",
   "metadata": {},
   "outputs": [],
   "source": [
    "from scipy.io import wavfile\n",
    "import numpy as np\n",
    "import matplotlib.pyplot as plt\n",
    "import sounddevice as sd\n",
    "import ast"
   ]
  },
  {
   "cell_type": "markdown",
   "id": "bc2951ab",
   "metadata": {},
   "source": [
    "### live recording"
   ]
  },
  {
   "cell_type": "code",
   "execution_count": 15,
   "id": "6588dd43",
   "metadata": {},
   "outputs": [],
   "source": [
    "from scipy.io.wavfile import write\n",
    "\n",
    "fs = 44100  # Sample rate\n",
    "seconds = 5  # Duration of recording\n",
    "\n",
    "myrecording = sd.rec(int(seconds * fs), samplerate=fs, channels=2)\n",
    "sd.wait()  # Wait until recording is finished\n",
    "write('OUTPUT.wav', fs, myrecording)  # Save as WAV file"
   ]
  },
  {
   "cell_type": "markdown",
   "id": "1c07ef76",
   "metadata": {},
   "source": [
    "## Taking input"
   ]
  },
  {
   "cell_type": "code",
   "execution_count": 16,
   "id": "37a30473",
   "metadata": {},
   "outputs": [
    {
     "data": {
      "image/png": "[encoded data removed]",
      "text/plain": [
       "<Figure size 432x288 with 1 Axes>"
      ]
     },
     "metadata": {
      "needs_background": "light"
     },
     "output_type": "display_data"
    }
   ],
   "source": [
    "fs, data = wavfile.read('OUTPUT.wav')\n",
    "plt.plot(data)            # fs = sampling frequency = 44.1kHz\n",
    "plt.title(\"Original Audio Plot\")\n",
    "data_1 = np.asarray(data, dtype = np.int32)"
   ]
  },
  {
   "cell_type": "markdown",
   "id": "787ae279",
   "metadata": {},
   "source": [
    "## Playing that sound"
   ]
  },
  {
   "cell_type": "code",
   "execution_count": 17,
   "id": "53b3bfed",
   "metadata": {},
   "outputs": [],
   "source": [
    "sd.play(data, fs)"
   ]
  },
  {
   "cell_type": "markdown",
   "id": "a3ca81db",
   "metadata": {},
   "source": [
    "## Generating public and private keys for RSA algorithm"
   ]
  },
  {
   "cell_type": "markdown",
   "id": "77ce75ab",
   "metadata": {},
   "source": [
    "\n",
    "Select two prime no's. Suppose P = 53 and Q = 59.\n",
    "\n",
    "Now First part of the Public key : n = P*Q = 3127.\n",
    "\n",
    "We also need a small exponent say e : But e Must be\n",
    "\n",
    "1) An integer.\n",
    "\n",
    "2) Not be a factor of n.\n",
    "\n",
    "3) 1 < e < Φ(n) [Φ(n) is discussed below], \n",
    "Let us now consider it to be equal to 3.\n",
    "\n",
    "Our Public Key is made of n and e\n",
    "\n",
    "1) We need to calculate Φ(n):\n",
    "\n",
    "Such that Φ(n) = (P-1)(Q-1)     \n",
    "  so,  Φ(n) = 3016\n",
    "\n",
    "\n",
    "2) Now calculate Private Key, d :\n",
    "\n",
    "d = (k*Φ(n) + 1) / e for some integer k\n",
    "For k = 2, value of d is 2011.\n"
   ]
  },
  {
   "cell_type": "code",
   "execution_count": 18,
   "id": "9f8398c4",
   "metadata": {},
   "outputs": [
    {
     "name": "stdout",
     "output_type": "stream",
     "text": [
      "Enter a prime number: 53\n",
      "Enter another prime number: 59\n",
      "n = p1*p2 =  3127\n"
     ]
    }
   ],
   "source": [
    "p1 = int(input(\"Enter a prime number: \"))#53\n",
    "p2 = int(input(\"Enter another prime number: \"))#59\n",
    "\n",
    "n = p1*p2\n",
    "print(\"n = p1*p2 = \",n)"
   ]
  },
  {
   "cell_type": "code",
   "execution_count": 19,
   "id": "c28261b9",
   "metadata": {},
   "outputs": [
    {
     "name": "stdout",
     "output_type": "stream",
     "text": [
      "Enter a small, odd number, co-prime with n: 1\n",
      "Enter value of k:31\n"
     ]
    }
   ],
   "source": [
    "e = int(input(\"Enter a small, odd number, co-prime with n: \"))#1\n",
    "k = int(input(\"Enter value of k:\"))#31"
   ]
  },
  {
   "cell_type": "code",
   "execution_count": 20,
   "id": "a9483ed4",
   "metadata": {},
   "outputs": [
    {
     "name": "stdout",
     "output_type": "stream",
     "text": [
      "phi =  3016\n",
      "d=  93497\n"
     ]
    }
   ],
   "source": [
    "phi = (p1-1)*(p2-1)\n",
    "print(\"phi = \",phi)\n",
    "d = int((k*phi+1)/e)\n",
    "#d = ((e**(-1))%phi)\n",
    "print(\"d= \",d)"
   ]
  },
  {
   "cell_type": "code",
   "execution_count": 21,
   "id": "7c7451a4",
   "metadata": {},
   "outputs": [
    {
     "name": "stdout",
     "output_type": "stream",
     "text": [
      "Public Key =  (3127, 1)\n",
      "Private Key =  (3127, 93497)\n"
     ]
    }
   ],
   "source": [
    "public_key = n,e\n",
    "private_key = n,d\n",
    "\n",
    "print(\"Public Key = \", public_key)\n",
    "print(\"Private Key = \",private_key)\n"
   ]
  },
  {
   "cell_type": "markdown",
   "id": "778d5a99",
   "metadata": {},
   "source": [
    "## Encrpytion of audio file"
   ]
  },
  {
   "cell_type": "code",
   "execution_count": 22,
   "id": "3c4ec3b8",
   "metadata": {},
   "outputs": [
    {
     "data": {
      "text/plain": [
       "Text(0.5, 1.0, 'Encrypted Audio Plot')"
      ]
     },
     "execution_count": 22,
     "metadata": {},
     "output_type": "execute_result"
    },
    {
     "data": {
      "image/png": "[encoded data removed]",
      "text/plain": [
       "<Figure size 432x288 with 1 Axes>"
      ]
     },
     "metadata": {
      "needs_background": "light"
     },
     "output_type": "display_data"
    }
   ],
   "source": [
    "encrypted = (data**e)%n\n",
    "plt.plot(encrypted)\n",
    "plt.title(\"Encrypted Audio Plot\")"
   ]
  },
  {
   "cell_type": "markdown",
   "id": "7e9728cf",
   "metadata": {},
   "source": [
    "## Saving the saved file"
   ]
  },
  {
   "cell_type": "code",
   "execution_count": 23,
   "id": "e8c9c064",
   "metadata": {},
   "outputs": [
    {
     "name": "stdout",
     "output_type": "stream",
     "text": [
      "A file titled 'encrypted_rsa.wav' is generated which is the encrypted audio to be communicated\n"
     ]
    }
   ],
   "source": [
    "data1 = np.asarray(encrypted, dtype=np.int16)\n",
    "wavfile.write('encrypted_rsa.wav', fs, data1)\n",
    "print(\"A file titled 'encrypted_rsa.wav' is generated which is the encrypted audio to be communicated\")"
   ]
  },
  {
   "cell_type": "markdown",
   "id": "5645f3db",
   "metadata": {},
   "source": [
    "## Loading and decrypting"
   ]
  },
  {
   "cell_type": "code",
   "execution_count": 24,
   "id": "b729290e",
   "metadata": {},
   "outputs": [
    {
     "data": {
      "text/plain": [
       "Text(0.5, 1.0, 'Encrypted Audio Plot')"
      ]
     },
     "execution_count": 24,
     "metadata": {},
     "output_type": "execute_result"
    },
    {
     "data": {
      "image/png": "[encoded data removed]",
      "text/plain": [
       "<Figure size 432x288 with 1 Axes>"
      ]
     },
     "metadata": {
      "needs_background": "light"
     },
     "output_type": "display_data"
    }
   ],
   "source": [
    "fs, Data = wavfile.read('encrypted_rsa.wav')\n",
    "plt.plot(Data)\n",
    "plt.title(\"Encrypted Audio Plot\")"
   ]
  },
  {
   "cell_type": "markdown",
   "id": "7b4fa4fe",
   "metadata": {},
   "source": [
    "## Decryption of data"
   ]
  },
  {
   "cell_type": "code",
   "execution_count": 25,
   "id": "738c49b4",
   "metadata": {
    "scrolled": true
   },
   "outputs": [
    {
     "data": {
      "text/plain": [
       "Text(0.5, 1.0, 'Decrypted Audio Plot')"
      ]
     },
     "execution_count": 25,
     "metadata": {},
     "output_type": "execute_result"
    },
    {
     "data": {
      "image/png": "[encoded data removed]",
      "text/plain": [
       "<Figure size 432x288 with 1 Axes>"
      ]
     },
     "metadata": {
      "needs_background": "light"
     },
     "output_type": "display_data"
    }
   ],
   "source": [
    "decrypted = ((Data)**d)%n\n",
    "plt.plot(decrypted)\n",
    "plt.title('Decrypted Audio Plot')"
   ]
  },
  {
   "cell_type": "code",
   "execution_count": 27,
   "id": "531e864f",
   "metadata": {},
   "outputs": [],
   "source": [
    "sd.play(data1, fs)"
   ]
  },
  {
   "cell_type": "code",
   "execution_count": null,
   "id": "e577c897",
   "metadata": {},
   "outputs": [],
   "source": []
  },
  {
   "cell_type": "code",
   "execution_count": null,
   "id": "676d6a4c",
   "metadata": {},
   "outputs": [],
   "source": []
  }
 ],
 "metadata": {
  "kernelspec": {
   "display_name": "Python 3 (ipykernel)",
   "language": "python",
   "name": "python3"
  },
  "language_info": {
   "codemirror_mode": {
    "name": "ipython",
    "version": 3
   },
   "file_extension": ".py",
   "mimetype": "text/x-python",
   "name": "python",
   "nbconvert_exporter": "python",
   "pygments_lexer": "ipython3",
   "version": "3.9.7"
  }
 },
 "nbformat": 4,
 "nbformat_minor": 5
}
