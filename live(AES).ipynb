{
 "cells": [
  {
   "cell_type": "code",
   "execution_count": 1,
   "id": "9bd02b4f",
   "metadata": {},
   "outputs": [],
   "source": [
    "from scipy.io import wavfile\n",
    "import numpy as np\n",
    "import matplotlib.pyplot as plt\n",
    "import sounddevice as sd\n",
    "\n",
    "import random\n",
    "import string\n",
    "from Crypto.Cipher import AES"
   ]
  },
  {
   "cell_type": "code",
   "execution_count": 2,
   "id": "f106a2f2",
   "metadata": {},
   "outputs": [],
   "source": [
    "from scipy.io.wavfile import write\n",
    "\n",
    "fs = 44100  # Sample rate\n",
    "seconds = 5  # Duration of recording\n",
    "\n",
    "myrecording = sd.rec(int(seconds * fs), samplerate=fs, channels=2)\n",
    "sd.wait()  # Wait until recording is finished\n",
    "write('output.wav', fs, myrecording)  # Save as WAV file"
   ]
  },
  {
   "cell_type": "code",
   "execution_count": 3,
   "id": "165362bb",
   "metadata": {},
   "outputs": [
    {
     "data": {
      "text/plain": [
       "Text(0.5, 1.0, 'Original Audio Plot')"
      ]
     },
     "execution_count": 3,
     "metadata": {},
     "output_type": "execute_result"
    },
    {
     "data": {
      "image/png": "[encoded data removed]",
      "text/plain": [
       "<Figure size 432x288 with 1 Axes>"
      ]
     },
     "metadata": {
      "needs_background": "light"
     },
     "output_type": "display_data"
    }
   ],
   "source": [
    "fs, data = wavfile.read('output.wav')\n",
    "plt.plot(data)            # fs = sampling frequency = 44.1kHz\n",
    "plt.title(\"Original Audio Plot\")"
   ]
  },
  {
   "cell_type": "code",
   "execution_count": 4,
   "id": "fb84f6c4",
   "metadata": {},
   "outputs": [],
   "source": [
    "sd.play(data, fs)"
   ]
  },
  {
   "cell_type": "code",
   "execution_count": 5,
   "id": "0baa6dc5",
   "metadata": {},
   "outputs": [],
   "source": [
    "with open('output.wav', 'rb') as fd:\n",
    "    contents = fd.read()"
   ]
  },
  {
   "cell_type": "markdown",
   "id": "0c047272",
   "metadata": {},
   "source": [
    "### Getting ready with AES"
   ]
  },
  {
   "cell_type": "code",
   "execution_count": 6,
   "id": "4492484f",
   "metadata": {},
   "outputs": [],
   "source": [
    "AES_KEY = ''.join(random.choice(string.ascii_uppercase + string.ascii_lowercase + string.digits) for x in range(32))\n",
    "\n",
    "AES_IV = ''.join(random.choice(string.ascii_uppercase + string.ascii_lowercase + string.digits) for x in range(16))"
   ]
  },
  {
   "cell_type": "code",
   "execution_count": 7,
   "id": "be0c6181",
   "metadata": {},
   "outputs": [
    {
     "name": "stdout",
     "output_type": "stream",
     "text": [
      "AES Key is  8JfPsYGHHXSj5iSnRyL4ocdzvf5dX3E2\n",
      "AES Initialization vector is  8sQdy2vWw9sBQ4AU\n"
     ]
    }
   ],
   "source": [
    "print(\"AES Key is \", AES_KEY)\n",
    "print(\"AES Initialization vector is \", AES_IV)"
   ]
  },
  {
   "cell_type": "markdown",
   "id": "94c8332a",
   "metadata": {},
   "source": [
    "### Encrpytion of audio file"
   ]
  },
  {
   "cell_type": "code",
   "execution_count": 9,
   "id": "cd6c455a",
   "metadata": {},
   "outputs": [],
   "source": [
    "encryptor = AES.new(AES_KEY.encode(\"utf-8\"), AES.MODE_CFB, AES_IV.encode(\"utf-8\"))\n",
    "encrypted_audio = encryptor.encrypt(contents)"
   ]
  },
  {
   "cell_type": "markdown",
   "id": "ec570264",
   "metadata": {},
   "source": [
    "### Saving the encrypted file"
   ]
  },
  {
   "cell_type": "code",
   "execution_count": 10,
   "id": "a0dcfcd9",
   "metadata": {},
   "outputs": [
    {
     "name": "stdout",
     "output_type": "stream",
     "text": [
      "A file titled 'encrypted_AES.wav' is generated which is the encrypted audio to be communicated\n"
     ]
    }
   ],
   "source": [
    "with open('encrypted_AES.wav', 'wb') as fd:\n",
    "    fd.write(encrypted_audio)\n",
    "print(\"A file titled 'encrypted_AES.wav' is generated which is the encrypted audio to be communicated\")"
   ]
  },
  {
   "cell_type": "code",
   "execution_count": null,
   "id": "3fa328b7",
   "metadata": {},
   "outputs": [],
   "source": []
  },
  {
   "cell_type": "code",
   "execution_count": 11,
   "id": "6051ff17",
   "metadata": {},
   "outputs": [],
   "source": [
    "with open('encrypted_AES.wav', 'rb') as fd:\n",
    "    contents = fd.read()"
   ]
  },
  {
   "cell_type": "markdown",
   "id": "e037982a",
   "metadata": {},
   "source": [
    "### Decryption of data"
   ]
  },
  {
   "cell_type": "code",
   "execution_count": 12,
   "id": "53da4930",
   "metadata": {},
   "outputs": [],
   "source": [
    "decryptor = AES.new(AES_KEY.encode(\"utf-8\"), AES.MODE_CFB, AES_IV.encode(\"utf-8\"))\n",
    "decrypted_audio = decryptor.decrypt(contents)"
   ]
  },
  {
   "cell_type": "code",
   "execution_count": 13,
   "id": "9794b46a",
   "metadata": {},
   "outputs": [],
   "source": [
    "with open('decrypted_AES.wav', 'wb') as fd:\n",
    "    fd.write(decrypted_audio)"
   ]
  },
  {
   "cell_type": "code",
   "execution_count": 14,
   "id": "5ed6cc2d",
   "metadata": {},
   "outputs": [
    {
     "data": {
      "image/png": "[encoded data removed]",
      "text/plain": [
       "<Figure size 432x288 with 1 Axes>"
      ]
     },
     "metadata": {
      "needs_background": "light"
     },
     "output_type": "display_data"
    }
   ],
   "source": [
    "fs, decrypted = wavfile.read('decrypted_AES.wav')\n",
    "plt.plot(decrypted)            # fs = sampling frequency = 44.1kHz\n",
    "plt.title(\"Original Audio Plot\")\n",
    "data_1 = np.asarray(decrypted, dtype = np.int32)"
   ]
  },
  {
   "cell_type": "code",
   "execution_count": 15,
   "id": "454df7ec",
   "metadata": {},
   "outputs": [],
   "source": [
    "sd.play(decrypted, fs)"
   ]
  },
  {
   "cell_type": "code",
   "execution_count": null,
   "id": "2cdc8415",
   "metadata": {},
   "outputs": [],
   "source": []
  }
 ],
 "metadata": {
  "kernelspec": {
   "display_name": "Python 3 (ipykernel)",
   "language": "python",
   "name": "python3"
  },
  "language_info": {
   "codemirror_mode": {
    "name": "ipython",
    "version": 3
   },
   "file_extension": ".py",
   "mimetype": "text/x-python",
   "name": "python",
   "nbconvert_exporter": "python",
   "pygments_lexer": "ipython3",
   "version": "3.9.7"
  }
 },
 "nbformat": 4,
 "nbformat_minor": 5
}
